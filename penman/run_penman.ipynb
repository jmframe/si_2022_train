{
 "cells": [
  {
   "cell_type": "markdown",
   "id": "0a3635bd",
   "metadata": {},
   "source": [
    "# Evaporation from Penman\n",
    "This model is basically just for demonstration. This is an example run of the Python implimentation of the model.\n",
    "## bmi_penman\n",
    "This is the code for the Basic Model Interface (BMI) that is used to call the model and interact with other models via the Framework, or driving code. This code contains all the required BMI functions to run the CFE, including \n",
    " - initialize: Perform startup tasks for the model.\n",
    " - update: Advance model state by one time step. Calls the function `run_cfe` from `cfe.py`\n",
    " - update_until: Advance model state until the given time.\n",
    " - finalize: Perform tear-down tasks for the model.\n",
    " - get_value: Get a copy of values of a given variable.\n",
    " - set_value: Set the values of a given variable.\n",
    " - etc.  \n",
    " These functions need to be called by a framework or driving code, an example of which is below."
   ]
  },
  {
   "cell_type": "code",
   "execution_count": 1,
   "id": "4f1c9bb4",
   "metadata": {},
   "outputs": [],
   "source": [
    "import time\n",
    "import numpy as np\n",
    "import pandas as pd\n",
    "import json\n",
    "import matplotlib.pyplot as plt\n",
    "import bmi_penman"
   ]
  },
  {
   "cell_type": "markdown",
   "id": "81b22b83",
   "metadata": {},
   "source": [
    "### Create an instance of the model with a specific configuration that corresponds to a particular catchmenmt."
   ]
  },
  {
   "cell_type": "code",
   "execution_count": 2,
   "id": "ce555bd9",
   "metadata": {},
   "outputs": [],
   "source": [
    "penman_instance = bmi_penman.BMI_PENMAN()"
   ]
  },
  {
   "cell_type": "markdown",
   "id": "08fbe912",
   "metadata": {},
   "source": [
    "### This initialization function should perform all tasks that are to take place before entering the model’s time loop. Models should be refactored, if necessary, to read their inputs (which could include filenames for other input files) from a configuration file. BMI does not impose any constraint on how configuration files are formatted."
   ]
  },
  {
   "cell_type": "code",
   "execution_count": 3,
   "id": "c05f5d19",
   "metadata": {},
   "outputs": [],
   "source": [
    "penman_instance.initialize(cfg_file='./cat_58_config_penman.json', current_time_step=0)"
   ]
  },
  {
   "cell_type": "markdown",
   "id": "9fd1796b",
   "metadata": {},
   "source": [
    "### Open the forcing file contained within the configuration file. We can run the model with any forcing. This is only an example. The path to the forcing file is contained within the configuration file, but it doesn't really need to be. This is just for organization."
   ]
  },
  {
   "cell_type": "code",
   "execution_count": 4,
   "id": "9941d994",
   "metadata": {},
   "outputs": [],
   "source": [
    "with open(penman_instance.forcing_file, 'r') as f:\n",
    "    df_forcing = pd.read_csv(f)"
   ]
  },
  {
   "cell_type": "markdown",
   "id": "eaf15e86",
   "metadata": {},
   "source": [
    "### We will want to visualize the model output"
   ]
  },
  {
   "cell_type": "code",
   "execution_count": 5,
   "id": "ba07fb27",
   "metadata": {},
   "outputs": [],
   "source": [
    "outputs=penman_instance.get_output_var_names()\n",
    "output_lists = {output:[] for output in outputs}"
   ]
  },
  {
   "cell_type": "markdown",
   "id": "228ef248",
   "metadata": {},
   "source": [
    "### Now we loop through the forcing data and use it to run the model at each time step"
   ]
  },
  {
   "cell_type": "code",
   "execution_count": null,
   "id": "14ba35f4",
   "metadata": {},
   "outputs": [],
   "source": [
    "for i in range(df_forcing.shape[0]):\n",
    "    \n",
    "    framework_time = (1+i)*3600 # Seconds since starting simulation\n",
    "    \n",
    "    penman_instance.set_value('land_surface_air__temperature', df_forcing.loc[i,'TMP_2maboveground'])\n",
    "    \n",
    "    penman_instance.update()\n",
    "    \n",
    "    for output in outputs:\n",
    "    \n",
    "        output_lists[output].append(penman_instance.get_value(output))"
   ]
  },
  {
   "cell_type": "markdown",
   "id": "7ce2e5e6",
   "metadata": {},
   "source": [
    "### The finalize function should perform all tasks that take place after exiting the model’s time loop. This typically includes deallocating memory, closing files and printing reports."
   ]
  },
  {
   "cell_type": "code",
   "execution_count": 8,
   "id": "b8bc6e9a",
   "metadata": {},
   "outputs": [
    {
     "name": "stdout",
     "output_type": "stream",
     "text": [
      "\n",
      "MASS BALANCE\n",
      "  initial:   1.0000\n",
      "  input: 259.2000\n",
      "  final:   0.0000\n",
      "  lost: 208.8050\n",
      "  overflow:  51.3950\n",
      "  outlet:   0.0000\n",
      "  residual: 3.5527e-14\n"
     ]
    }
   ],
   "source": [
    "penman_instance.finalize()"
   ]
  },
  {
   "cell_type": "markdown",
   "id": "8b72aaa2",
   "metadata": {},
   "source": [
    "### Here we are just plotting the fluxes."
   ]
  },
  {
   "cell_type": "code",
   "execution_count": 9,
   "id": "ef6adb2e",
   "metadata": {},
   "outputs": [
    {
     "data": {
      "image/png": "[encoded data removed]",
      "text/plain": [
       "<Figure size 432x288 with 1 Axes>"
      ]
     },
     "metadata": {
      "needs_background": "light"
     },
     "output_type": "display_data"
    },
    {
     "data": {
      "image/png": "[encoded data removed]",
      "text/plain": [
       "<Figure size 432x288 with 1 Axes>"
      ]
     },
     "metadata": {
      "needs_background": "light"
     },
     "output_type": "display_data"
    },
    {
     "data": {
      "image/png": "[encoded data removed]",
      "text/plain": [
       "<Figure size 432x288 with 1 Axes>"
      ]
     },
     "metadata": {
      "needs_background": "light"
     },
     "output_type": "display_data"
    }
   ],
   "source": [
    "istart_plot=490\n",
    "iend_plot=550\n",
    "x = list(range(istart_plot, iend_plot))\n",
    "for output in outputs:\n",
    "    plt.plot(x, output_lists[output][istart_plot:iend_plot], label=output)\n",
    "    plt.title(output)\n",
    "    plt.legend()\n",
    "    plt.show()\n",
    "    plt.close()"
   ]
  },
  {
   "cell_type": "code",
   "execution_count": null,
   "id": "e70be184-4f75-4748-a703-101af511664b",
   "metadata": {},
   "outputs": [],
   "source": []
  },
  {
   "cell_type": "code",
   "execution_count": null,
   "id": "863bbbc4-6356-4e37-8a46-238932c5716d",
   "metadata": {},
   "outputs": [],
   "source": []
  }
 ],
 "metadata": {
  "kernelspec": {
   "display_name": "Python 3 (ipykernel)",
   "language": "python",
   "name": "python3"
  },
  "language_info": {
   "codemirror_mode": {
    "name": "ipython",
    "version": 3
   },
   "file_extension": ".py",
   "mimetype": "text/x-python",
   "name": "python",
   "nbconvert_exporter": "python",
   "pygments_lexer": "ipython3",
   "version": "3.9.12"
  }
 },
 "nbformat": 4,
 "nbformat_minor": 5
}
